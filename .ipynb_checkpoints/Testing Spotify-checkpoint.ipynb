{
 "cells": [
  {
   "cell_type": "code",
   "execution_count": 1,
   "id": "34c5029a-384c-4988-8b7b-810ae4fb094b",
   "metadata": {},
   "outputs": [
    {
     "name": "stdout",
     "output_type": "stream",
     "text": [
      "Requirement already satisfied: python-dotenv in c:\\users\\ruwin\\anaconda3\\lib\\site-packages (0.21.0)\n",
      "Requirement already satisfied: spotipy in c:\\users\\ruwin\\anaconda3\\lib\\site-packages (2.21.0)\n",
      "Requirement already satisfied: redis>=3.5.3 in c:\\users\\ruwin\\anaconda3\\lib\\site-packages (from spotipy) (4.3.4)\n",
      "Requirement already satisfied: requests>=2.25.0 in c:\\users\\ruwin\\anaconda3\\lib\\site-packages (from spotipy) (2.27.1)\n",
      "Requirement already satisfied: urllib3>=1.26.0 in c:\\users\\ruwin\\anaconda3\\lib\\site-packages (from spotipy) (1.26.8)\n",
      "Requirement already satisfied: six>=1.15.0 in c:\\users\\ruwin\\anaconda3\\lib\\site-packages (from spotipy) (1.16.0)\n",
      "Requirement already satisfied: async-timeout>=4.0.2 in c:\\users\\ruwin\\anaconda3\\lib\\site-packages (from redis>=3.5.3->spotipy) (4.0.2)\n",
      "Requirement already satisfied: packaging>=20.4 in c:\\users\\ruwin\\anaconda3\\lib\\site-packages (from redis>=3.5.3->spotipy) (21.3)\n",
      "Requirement already satisfied: deprecated>=1.2.3 in c:\\users\\ruwin\\anaconda3\\lib\\site-packages (from redis>=3.5.3->spotipy) (1.2.13)\n",
      "Requirement already satisfied: certifi>=2017.4.17 in c:\\users\\ruwin\\anaconda3\\lib\\site-packages (from requests>=2.25.0->spotipy) (2022.9.24)\n",
      "Requirement already satisfied: idna<4,>=2.5 in c:\\users\\ruwin\\anaconda3\\lib\\site-packages (from requests>=2.25.0->spotipy) (3.3)\n",
      "Requirement already satisfied: charset-normalizer~=2.0.0 in c:\\users\\ruwin\\anaconda3\\lib\\site-packages (from requests>=2.25.0->spotipy) (2.0.4)\n",
      "Requirement already satisfied: wrapt<2,>=1.10 in c:\\users\\ruwin\\anaconda3\\lib\\site-packages (from deprecated>=1.2.3->redis>=3.5.3->spotipy) (1.12.1)\n",
      "Requirement already satisfied: pyparsing!=3.0.5,>=2.0.2 in c:\\users\\ruwin\\anaconda3\\lib\\site-packages (from packaging>=20.4->redis>=3.5.3->spotipy) (3.0.4)\n"
     ]
    },
    {
     "name": "stderr",
     "output_type": "stream",
     "text": [
      "WARNING: Ignoring invalid distribution -yperopt (c:\\users\\ruwin\\anaconda3\\lib\\site-packages)\n",
      "WARNING: Ignoring invalid distribution -yperopt (c:\\users\\ruwin\\anaconda3\\lib\\site-packages)\n",
      "WARNING: Ignoring invalid distribution -yperopt (c:\\users\\ruwin\\anaconda3\\lib\\site-packages)\n",
      "WARNING: Ignoring invalid distribution -yperopt (c:\\users\\ruwin\\anaconda3\\lib\\site-packages)\n",
      "WARNING: Ignoring invalid distribution -yperopt (c:\\users\\ruwin\\anaconda3\\lib\\site-packages)\n",
      "WARNING: Ignoring invalid distribution -yperopt (c:\\users\\ruwin\\anaconda3\\lib\\site-packages)\n",
      "WARNING: You are using pip version 22.0.3; however, version 22.3.1 is available.\n",
      "You should consider upgrading via the 'C:\\Users\\ruwin\\anaconda3\\python.exe -m pip install --upgrade pip' command.\n"
     ]
    }
   ],
   "source": [
    "# install dotenv and spotify\n",
    "!pip install python-dotenv spotipy"
   ]
  },
  {
   "cell_type": "code",
   "execution_count": 2,
   "id": "a71450cc-4d3c-42d5-81f6-ee1f0deac425",
   "metadata": {},
   "outputs": [],
   "source": [
    "import csv\n",
    "import os\n",
    "import re\n",
    "\n",
    "import spotipy\n",
    "from dotenv import load_dotenv\n",
    "from spotipy.oauth2 import SpotifyClientCredentials"
   ]
  },
  {
   "cell_type": "code",
   "execution_count": 3,
   "id": "e4fe2b99-0caa-4827-8ef6-9961a56f7224",
   "metadata": {},
   "outputs": [
    {
     "data": {
      "text/plain": [
       "True"
      ]
     },
     "execution_count": 3,
     "metadata": {},
     "output_type": "execute_result"
    }
   ],
   "source": [
    "# load credentials from .env file\n",
    "load_dotenv()"
   ]
  },
  {
   "cell_type": "code",
   "execution_count": 13,
   "id": "72f43003-2b1b-46fc-9d5f-331d14e0e314",
   "metadata": {},
   "outputs": [],
   "source": [
    "CLIENT_ID = os.getenv(\"CLIENT_ID\", \"\")\n",
    "CLIENT_SECRET = os.getenv(\"CLIENT_SECRET\", \"\")\n",
    "OUTPUT_FILE_NAME = \"track_info4.csv\""
   ]
  },
  {
   "cell_type": "code",
   "execution_count": 14,
   "id": "8bd63d32-205e-4f31-845f-ec8154e261d7",
   "metadata": {},
   "outputs": [],
   "source": [
    "# authenticate\n",
    "client_credentials_manager = SpotifyClientCredentials(\n",
    "    client_id=CLIENT_ID, client_secret=CLIENT_SECRET\n",
    ")"
   ]
  },
  {
   "cell_type": "code",
   "execution_count": 15,
   "id": "afb908d6-d2bd-4a31-a9e1-44ce1c99e309",
   "metadata": {},
   "outputs": [],
   "source": [
    "# create spotify session object\n",
    "session = spotipy.Spotify(client_credentials_manager=client_credentials_manager)"
   ]
  },
  {
   "cell_type": "code",
   "execution_count": 16,
   "id": "1ef48ff7-28b0-4e89-a520-d241a0419d91",
   "metadata": {},
   "outputs": [],
   "source": [
    "# playlist web address link\n",
    "PLAYLIST_LINK = \"https://open.spotify.com/playlist/37i9dQZEVXbMDoHDwVN2tF?si=2298ab0874234045\"\n",
    "\n",
    "if match := re.match(r\"https://open.spotify.com/playlist/(.*)\\?\", PLAYLIST_LINK):\n",
    "    playlist_uri = match.groups()[0]\n",
    "else:\n",
    "    raise ValueError(\"Expected format: https://open.spotify.com/playlist/...\")"
   ]
  },
  {
   "cell_type": "code",
   "execution_count": 17,
   "id": "0e9a9cea-d4f6-4fda-8ae2-d5ba4b93b6d5",
   "metadata": {},
   "outputs": [],
   "source": [
    "# get list of tracks in a given playlist (note: max playlist length 100)\n",
    "tracks = session.playlist_tracks(playlist_uri)[\"items\"]"
   ]
  },
  {
   "cell_type": "code",
   "execution_count": 18,
   "id": "2dc263f4-89e3-4f99-843a-65d02ec2b228",
   "metadata": {},
   "outputs": [],
   "source": [
    "def get_artists_genres(artist_uri):\n",
    "    artists = session.artist(artist_uri)\n",
    "    return artists[\"genres\"]"
   ]
  },
  {
   "cell_type": "code",
   "execution_count": 19,
   "id": "0b4f486d-9160-4323-8ec6-21b67970e4b1",
   "metadata": {},
   "outputs": [],
   "source": [
    "import datetime\n",
    "now_date = datetime.datetime.now()"
   ]
  },
  {
   "cell_type": "markdown",
   "id": "1ce134b6-394c-4446-875b-9912e3b7aa38",
   "metadata": {},
   "source": [
    "### The Code block Beklow will only be excuted at the creation of the csv"
   ]
  },
  {
   "cell_type": "code",
   "execution_count": 20,
   "id": "bc425117-d11f-4a5c-bff7-745f00c52731",
   "metadata": {},
   "outputs": [],
   "source": [
    "# with open(OUTPUT_FILE_NAME, \"w\", encoding=\"utf-8\",newline='') as file:\n",
    "#     writer = csv.writer(file)\n",
    "    \n",
    "#     # write header column names\n",
    "#     writer.writerow([\"track_name\", \"artists\",\"track_number\",\"song_id\",\"added_time\",\"popularity\", \"duration_ms\", \"genres\",\"extracted_at\"])\n",
    "#     #added_time = track[\"added_at\"]\n",
    "#     # extract name and artist\n",
    "#     for track in tracks:\n",
    "#         name = track[\"track\"][\"name\"]\n",
    "#         track_number = track[\"track\"][\"track_number\"]\n",
    "#         song_id = track[\"track\"][\"id\"]\n",
    "#         popularity = track[\"track\"][\"popularity\"]\n",
    "#         duration = track[\"track\"][\"duration_ms\"]\n",
    "#         artists = \", \".join(\n",
    "#             [artist[\"name\"] for artist in track[\"track\"][\"artists\"]]\n",
    "#         )\n",
    "#         added_time = track[\"added_at\"]\n",
    "#         #genres = get_album_genre(track[\"track\"][\"album\"][\"uri\"])\n",
    "        \n",
    "#         for artist in track[\"track\"][\"artists\"]:\n",
    "#             genres = \", \".join(get_artists_genres(artist[\"uri\"]))\n",
    "#             #genres = (\", \".join(genre))\n",
    "        \n",
    "#         extracted_at = now_date\n",
    "      \n",
    "#         # write to csv\n",
    "#         writer.writerow([name, artists,track_number,song_id,added_time,popularity,duration,genres,extracted_at])"
   ]
  },
  {
   "cell_type": "markdown",
   "id": "cddeb52c-e001-462f-bbae-d99c9d65e982",
   "metadata": {},
   "source": [
    "### The Code block Below will be excuted Daily as a daily part of the data extraction"
   ]
  },
  {
   "cell_type": "code",
   "execution_count": null,
   "id": "85eb49ed-1898-44ea-9ecc-3f0e3eaf6bab",
   "metadata": {},
   "outputs": [],
   "source": [
    "\n",
    "with open(OUTPUT_FILE_NAME, \"a\", encoding=\"utf-8\",newline='') as file:\n",
    "    writer = csv.writer(file)\n",
    "    \n",
    "    # write header column names\n",
    "    # extract name and artist\n",
    "    for track in tracks:\n",
    "        name = track[\"track\"][\"name\"]\n",
    "        track_number = track[\"track\"][\"track_number\"]\n",
    "        song_id = track[\"track\"][\"id\"]\n",
    "        popularity = track[\"track\"][\"popularity\"]\n",
    "        duration = track[\"track\"][\"duration_ms\"]\n",
    "        artists = \", \".join(\n",
    "            [artist[\"name\"] for artist in track[\"track\"][\"artists\"]]\n",
    "        )\n",
    "        added_time = track[\"added_at\"]\n",
    "        #genres = get_album_genre(track[\"track\"][\"album\"][\"uri\"])\n",
    "        \n",
    "        for artist in track[\"track\"][\"artists\"]:\n",
    "            genres = \", \".join(get_artists_genres(artist[\"uri\"]))\n",
    "            #genres = (\", \".join(genre))\n",
    "        \n",
    "        extracted_at = now_date\n",
    "      \n",
    "        # write to csv\n",
    "        writer.writerow([name, artists,track_number,song_id,added_time,popularity,duration,genres,extracted_at])"
   ]
  }
 ],
 "metadata": {
  "kernelspec": {
   "display_name": "Python 3 (ipykernel)",
   "language": "python",
   "name": "python3"
  },
  "language_info": {
   "codemirror_mode": {
    "name": "ipython",
    "version": 3
   },
   "file_extension": ".py",
   "mimetype": "text/x-python",
   "name": "python",
   "nbconvert_exporter": "python",
   "pygments_lexer": "ipython3",
   "version": "3.8.3"
  }
 },
 "nbformat": 4,
 "nbformat_minor": 5
}
