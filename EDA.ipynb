{
 "cells": [
  {
   "cell_type": "code",
   "execution_count": 1,
   "id": "946f5f18-0c0b-4450-a419-32c84a7a57de",
   "metadata": {},
   "outputs": [],
   "source": [
    "import pandas as pd\n",
    "import numpy as np\n",
    "import matplotlib.pyplot as plt\n",
    "import seaborn as sns"
   ]
  },
  {
   "cell_type": "code",
   "execution_count": 2,
   "id": "4ab59c60-1233-4f7c-8df2-d455d9050be5",
   "metadata": {},
   "outputs": [],
   "source": [
    "df = pd.read_csv(\"track_info4 (1).csv\");\n"
   ]
  },
  {
   "cell_type": "code",
   "execution_count": 6,
   "id": "23e6fb35-32c9-4b33-b7e3-e5731dedbebe",
   "metadata": {},
   "outputs": [
    {
     "data": {
      "text/plain": [
       "count       500.000000\n",
       "mean     199125.784000\n",
       "std       36876.893558\n",
       "min      123890.000000\n",
       "25%      169701.500000\n",
       "50%      198937.000000\n",
       "75%      233456.000000\n",
       "max      262960.000000\n",
       "Name: duration_ms, dtype: float64"
      ]
     },
     "execution_count": 6,
     "metadata": {},
     "output_type": "execute_result"
    }
   ],
   "source": [
    "df['duration_ms'].describe()"
   ]
  },
  {
   "cell_type": "code",
   "execution_count": 8,
   "id": "3fdab794-fc2e-4517-9e6d-647937379494",
   "metadata": {},
   "outputs": [
    {
     "data": {
      "text/plain": [
       "DescribeResult(nobs=500, minmax=(123890, 262960), mean=199125.784, variance=1359905278.4662766, skewness=-0.057030790037502166, kurtosis=-1.0208375793250548)"
      ]
     },
     "execution_count": 8,
     "metadata": {},
     "output_type": "execute_result"
    }
   ],
   "source": [
    "from scipy import stats \n",
    "\n",
    "\n",
    "stats.describe(df['duration_ms'])"
   ]
  },
  {
   "cell_type": "code",
   "execution_count": 9,
   "id": "6dd13fdb-56e2-4743-8349-21700eabb0e8",
   "metadata": {},
   "outputs": [
    {
     "data": {
      "text/plain": [
       "<AxesSubplot:xlabel='track_number', ylabel='Count'>"
      ]
     },
     "execution_count": 9,
     "metadata": {},
     "output_type": "execute_result"
    },
    {
     "data": {
      "image/png": "[encoded data removed]",
      "text/plain": [
       "<Figure size 432x288 with 1 Axes>"
      ]
     },
     "metadata": {
      "needs_background": "light"
     },
     "output_type": "display_data"
    }
   ],
   "source": [
    "sns.histplot(df['track_number'])"
   ]
  }
 ],
 "metadata": {
  "kernelspec": {
   "display_name": "Python 3 (ipykernel)",
   "language": "python",
   "name": "python3"
  },
  "language_info": {
   "codemirror_mode": {
    "name": "ipython",
    "version": 3
   },
   "file_extension": ".py",
   "mimetype": "text/x-python",
   "name": "python",
   "nbconvert_exporter": "python",
   "pygments_lexer": "ipython3",
   "version": "3.8.3"
  }
 },
 "nbformat": 4,
 "nbformat_minor": 5
}
